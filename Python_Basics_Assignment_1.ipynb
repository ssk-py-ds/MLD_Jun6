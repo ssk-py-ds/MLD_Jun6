{
 "cells": [
  {
   "cell_type": "markdown",
   "metadata": {},
   "source": [
    "# Python Basics - Assignment 1"
   ]
  },
  {
   "cell_type": "code",
   "execution_count": 1,
   "metadata": {},
   "outputs": [],
   "source": [
    "#Program which will find all numbers b/w 2000 & 3200(both included) which are divisible by 7 and not multiple of 5. \n",
    "#output to be printed in comma separated sequence in single line"
   ]
  },
  {
   "cell_type": "code",
   "execution_count": 4,
   "metadata": {},
   "outputs": [
    {
     "name": "stdout",
     "output_type": "stream",
     "text": [
      "Enter lower range 2000\n",
      "Enter upper range 3000\n",
      "Otput is as Below :\n",
      " 2002,2009,2016,2023,2037,2044,2051,2058,2072,2079,2086,2093,2107,2114,2121,2128,2142,2149,2156,2163,2177,2184,2191,2198,2212,2219,2226,2233,2247,2254,2261,2268,2282,2289,2296,2303,2317,2324,2331,2338,2352,2359,2366,2373,2387,2394,2401,2408,2422,2429,2436,2443,2457,2464,2471,2478,2492,2499,2506,2513,2527,2534,2541,2548,2562,2569,2576,2583,2597,2604,2611,2618,2632,2639,2646,2653,2667,2674,2681,2688,2702,2709,2716,2723,2737,2744,2751,2758,2772,2779,2786,2793,2807,2814,2821,2828,2842,2849,2856,2863,2877,2884,2891,2898,2912,2919,2926,2933,2947,2954,2961,2968,2982,2989,2996\n"
     ]
    }
   ],
   "source": [
    "a=int(input('Enter lower range '))\n",
    "b=int(input('Enter upper range '))\n",
    "n=[]\n",
    "for x in range(a, b+1):\n",
    "    if (x%7==0) and (x%5!=0):\n",
    "        n.append(str(x))\n",
    "x=','.join(n)\n",
    "print('Otput is as Below :' '\\n',x)"
   ]
  },
  {
   "cell_type": "code",
   "execution_count": 5,
   "metadata": {},
   "outputs": [],
   "source": [
    "# Program to accept user First and Last Name and then printing in reverse order with space b/w first and last name"
   ]
  },
  {
   "cell_type": "code",
   "execution_count": 6,
   "metadata": {},
   "outputs": [
    {
     "name": "stdout",
     "output_type": "stream",
     "text": [
      "Enter the First Name Santosh\n",
      "Enter the Last Name kumar\n",
      "kumar Santosh\n"
     ]
    }
   ],
   "source": [
    "fn=input('Enter the First Name ')\n",
    "ln=input('Enter the Last Name ')\n",
    "print(ln+\" \"+fn)"
   ]
  },
  {
   "cell_type": "code",
   "execution_count": 7,
   "metadata": {},
   "outputs": [],
   "source": [
    "# Program to find volume of a sphere with diameter 12cm"
   ]
  },
  {
   "cell_type": "code",
   "execution_count": 13,
   "metadata": {},
   "outputs": [
    {
     "name": "stdout",
     "output_type": "stream",
     "text": [
      "Input a number for diameter of the sphere 12\n",
      "Volume of sphere of diameter 12 cm is  905.142857142857\n"
     ]
    }
   ],
   "source": [
    "#get radius from diameter\n",
    "d=int(input('Input a number for diameter of the sphere '))\n",
    "r=float(d/2)\n",
    "pi=float(22/7)\n",
    "#formula of the sphere to calculate volume\n",
    "v=(float(4/3)*pi*(r)**3)\n",
    "print(\"Volume of sphere of diameter {} cm is \".format(d),v)"
   ]
  }
 ],
 "metadata": {
  "kernelspec": {
   "display_name": "Python 3",
   "language": "python",
   "name": "python3"
  },
  "language_info": {
   "codemirror_mode": {
    "name": "ipython",
    "version": 3
   },
   "file_extension": ".py",
   "mimetype": "text/x-python",
   "name": "python",
   "nbconvert_exporter": "python",
   "pygments_lexer": "ipython3",
   "version": "3.7.6"
  }
 },
 "nbformat": 4,
 "nbformat_minor": 4
}
